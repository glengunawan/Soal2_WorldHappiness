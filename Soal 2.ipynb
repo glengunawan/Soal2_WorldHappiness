{
 "cells": [
  {
   "cell_type": "code",
   "execution_count": 2,
   "metadata": {},
   "outputs": [],
   "source": [
    "import pandas as pd \n",
    "import numpy as np \n",
    "import matplotlib.pyplot as plt"
   ]
  },
  {
   "cell_type": "code",
   "execution_count": 3,
   "metadata": {},
   "outputs": [
    {
     "data": {
      "text/html": [
       "<div>\n",
       "<style scoped>\n",
       "    .dataframe tbody tr th:only-of-type {\n",
       "        vertical-align: middle;\n",
       "    }\n",
       "\n",
       "    .dataframe tbody tr th {\n",
       "        vertical-align: top;\n",
       "    }\n",
       "\n",
       "    .dataframe thead th {\n",
       "        text-align: right;\n",
       "    }\n",
       "</style>\n",
       "<table border=\"1\" class=\"dataframe\">\n",
       "  <thead>\n",
       "    <tr style=\"text-align: right;\">\n",
       "      <th></th>\n",
       "      <th>Score</th>\n",
       "      <th>GDP per capita</th>\n",
       "      <th>Social support</th>\n",
       "      <th>Healthy life expectancy</th>\n",
       "      <th>Freedom to make life choices</th>\n",
       "      <th>Generosity</th>\n",
       "      <th>Perceptions of corruption</th>\n",
       "    </tr>\n",
       "  </thead>\n",
       "  <tbody>\n",
       "    <tr>\n",
       "      <td>0</td>\n",
       "      <td>7.769</td>\n",
       "      <td>1.340</td>\n",
       "      <td>1.587</td>\n",
       "      <td>0.986</td>\n",
       "      <td>0.596</td>\n",
       "      <td>0.153</td>\n",
       "      <td>0.393</td>\n",
       "    </tr>\n",
       "    <tr>\n",
       "      <td>1</td>\n",
       "      <td>7.600</td>\n",
       "      <td>1.383</td>\n",
       "      <td>1.573</td>\n",
       "      <td>0.996</td>\n",
       "      <td>0.592</td>\n",
       "      <td>0.252</td>\n",
       "      <td>0.410</td>\n",
       "    </tr>\n",
       "    <tr>\n",
       "      <td>2</td>\n",
       "      <td>7.554</td>\n",
       "      <td>1.488</td>\n",
       "      <td>1.582</td>\n",
       "      <td>1.028</td>\n",
       "      <td>0.603</td>\n",
       "      <td>0.271</td>\n",
       "      <td>0.341</td>\n",
       "    </tr>\n",
       "    <tr>\n",
       "      <td>3</td>\n",
       "      <td>7.494</td>\n",
       "      <td>1.380</td>\n",
       "      <td>1.624</td>\n",
       "      <td>1.026</td>\n",
       "      <td>0.591</td>\n",
       "      <td>0.354</td>\n",
       "      <td>0.118</td>\n",
       "    </tr>\n",
       "    <tr>\n",
       "      <td>4</td>\n",
       "      <td>7.488</td>\n",
       "      <td>1.396</td>\n",
       "      <td>1.522</td>\n",
       "      <td>0.999</td>\n",
       "      <td>0.557</td>\n",
       "      <td>0.322</td>\n",
       "      <td>0.298</td>\n",
       "    </tr>\n",
       "    <tr>\n",
       "      <td>...</td>\n",
       "      <td>...</td>\n",
       "      <td>...</td>\n",
       "      <td>...</td>\n",
       "      <td>...</td>\n",
       "      <td>...</td>\n",
       "      <td>...</td>\n",
       "      <td>...</td>\n",
       "    </tr>\n",
       "    <tr>\n",
       "      <td>151</td>\n",
       "      <td>3.334</td>\n",
       "      <td>0.359</td>\n",
       "      <td>0.711</td>\n",
       "      <td>0.614</td>\n",
       "      <td>0.555</td>\n",
       "      <td>0.217</td>\n",
       "      <td>0.411</td>\n",
       "    </tr>\n",
       "    <tr>\n",
       "      <td>152</td>\n",
       "      <td>3.231</td>\n",
       "      <td>0.476</td>\n",
       "      <td>0.885</td>\n",
       "      <td>0.499</td>\n",
       "      <td>0.417</td>\n",
       "      <td>0.276</td>\n",
       "      <td>0.147</td>\n",
       "    </tr>\n",
       "    <tr>\n",
       "      <td>153</td>\n",
       "      <td>3.203</td>\n",
       "      <td>0.350</td>\n",
       "      <td>0.517</td>\n",
       "      <td>0.361</td>\n",
       "      <td>0.000</td>\n",
       "      <td>0.158</td>\n",
       "      <td>0.025</td>\n",
       "    </tr>\n",
       "    <tr>\n",
       "      <td>154</td>\n",
       "      <td>3.083</td>\n",
       "      <td>0.026</td>\n",
       "      <td>0.000</td>\n",
       "      <td>0.105</td>\n",
       "      <td>0.225</td>\n",
       "      <td>0.235</td>\n",
       "      <td>0.035</td>\n",
       "    </tr>\n",
       "    <tr>\n",
       "      <td>155</td>\n",
       "      <td>2.853</td>\n",
       "      <td>0.306</td>\n",
       "      <td>0.575</td>\n",
       "      <td>0.295</td>\n",
       "      <td>0.010</td>\n",
       "      <td>0.202</td>\n",
       "      <td>0.091</td>\n",
       "    </tr>\n",
       "  </tbody>\n",
       "</table>\n",
       "<p>156 rows × 7 columns</p>\n",
       "</div>"
      ],
      "text/plain": [
       "     Score  GDP per capita  Social support  Healthy life expectancy  \\\n",
       "0    7.769           1.340           1.587                    0.986   \n",
       "1    7.600           1.383           1.573                    0.996   \n",
       "2    7.554           1.488           1.582                    1.028   \n",
       "3    7.494           1.380           1.624                    1.026   \n",
       "4    7.488           1.396           1.522                    0.999   \n",
       "..     ...             ...             ...                      ...   \n",
       "151  3.334           0.359           0.711                    0.614   \n",
       "152  3.231           0.476           0.885                    0.499   \n",
       "153  3.203           0.350           0.517                    0.361   \n",
       "154  3.083           0.026           0.000                    0.105   \n",
       "155  2.853           0.306           0.575                    0.295   \n",
       "\n",
       "     Freedom to make life choices  Generosity  Perceptions of corruption  \n",
       "0                           0.596       0.153                      0.393  \n",
       "1                           0.592       0.252                      0.410  \n",
       "2                           0.603       0.271                      0.341  \n",
       "3                           0.591       0.354                      0.118  \n",
       "4                           0.557       0.322                      0.298  \n",
       "..                            ...         ...                        ...  \n",
       "151                         0.555       0.217                      0.411  \n",
       "152                         0.417       0.276                      0.147  \n",
       "153                         0.000       0.158                      0.025  \n",
       "154                         0.225       0.235                      0.035  \n",
       "155                         0.010       0.202                      0.091  \n",
       "\n",
       "[156 rows x 7 columns]"
      ]
     },
     "execution_count": 3,
     "metadata": {},
     "output_type": "execute_result"
    }
   ],
   "source": [
    "df2019 = pd.read_csv('world-happiness/2019.csv')\n",
    "del df2019['Overall rank'] \n",
    "del df2019['Country or region']\n",
    "df2019"
   ]
  },
  {
   "cell_type": "markdown",
   "metadata": {},
   "source": [
    "### Mean"
   ]
  },
  {
   "cell_type": "code",
   "execution_count": 16,
   "metadata": {},
   "outputs": [
    {
     "data": {
      "text/plain": [
       "Score                           5.407096\n",
       "GDP per capita                  0.905147\n",
       "Social support                  1.208814\n",
       "Healthy life expectancy         0.725244\n",
       "Freedom to make life choices    0.392571\n",
       "Generosity                      0.184846\n",
       "Perceptions of corruption       0.110603\n",
       "dtype: float64"
      ]
     },
     "execution_count": 16,
     "metadata": {},
     "output_type": "execute_result"
    }
   ],
   "source": [
    "df2019.mean()"
   ]
  },
  {
   "cell_type": "markdown",
   "metadata": {},
   "source": [
    "### Median "
   ]
  },
  {
   "cell_type": "code",
   "execution_count": 17,
   "metadata": {},
   "outputs": [
    {
     "data": {
      "text/plain": [
       "Score                           5.3795\n",
       "GDP per capita                  0.9600\n",
       "Social support                  1.2715\n",
       "Healthy life expectancy         0.7890\n",
       "Freedom to make life choices    0.4170\n",
       "Generosity                      0.1775\n",
       "Perceptions of corruption       0.0855\n",
       "dtype: float64"
      ]
     },
     "execution_count": 17,
     "metadata": {},
     "output_type": "execute_result"
    }
   ],
   "source": [
    "df2019.median()"
   ]
  },
  {
   "cell_type": "markdown",
   "metadata": {},
   "source": [
    "### Modus"
   ]
  },
  {
   "cell_type": "code",
   "execution_count": 18,
   "metadata": {},
   "outputs": [
    {
     "data": {
      "text/html": [
       "<div>\n",
       "<style scoped>\n",
       "    .dataframe tbody tr th:only-of-type {\n",
       "        vertical-align: middle;\n",
       "    }\n",
       "\n",
       "    .dataframe tbody tr th {\n",
       "        vertical-align: top;\n",
       "    }\n",
       "\n",
       "    .dataframe thead th {\n",
       "        text-align: right;\n",
       "    }\n",
       "</style>\n",
       "<table border=\"1\" class=\"dataframe\">\n",
       "  <thead>\n",
       "    <tr style=\"text-align: right;\">\n",
       "      <th></th>\n",
       "      <th>Score</th>\n",
       "      <th>GDP per capita</th>\n",
       "      <th>Social support</th>\n",
       "      <th>Healthy life expectancy</th>\n",
       "      <th>Freedom to make life choices</th>\n",
       "      <th>Generosity</th>\n",
       "      <th>Perceptions of corruption</th>\n",
       "    </tr>\n",
       "  </thead>\n",
       "  <tbody>\n",
       "    <tr>\n",
       "      <td>0</td>\n",
       "      <td>5.208</td>\n",
       "      <td>0.96</td>\n",
       "      <td>1.465</td>\n",
       "      <td>0.815</td>\n",
       "      <td>0.498</td>\n",
       "      <td>0.153</td>\n",
       "      <td>0.028</td>\n",
       "    </tr>\n",
       "    <tr>\n",
       "      <td>1</td>\n",
       "      <td>NaN</td>\n",
       "      <td>NaN</td>\n",
       "      <td>NaN</td>\n",
       "      <td>0.999</td>\n",
       "      <td>0.508</td>\n",
       "      <td>NaN</td>\n",
       "      <td>0.078</td>\n",
       "    </tr>\n",
       "    <tr>\n",
       "      <td>2</td>\n",
       "      <td>NaN</td>\n",
       "      <td>NaN</td>\n",
       "      <td>NaN</td>\n",
       "      <td>NaN</td>\n",
       "      <td>0.557</td>\n",
       "      <td>NaN</td>\n",
       "      <td>0.089</td>\n",
       "    </tr>\n",
       "  </tbody>\n",
       "</table>\n",
       "</div>"
      ],
      "text/plain": [
       "   Score  GDP per capita  Social support  Healthy life expectancy  \\\n",
       "0  5.208            0.96           1.465                    0.815   \n",
       "1    NaN             NaN             NaN                    0.999   \n",
       "2    NaN             NaN             NaN                      NaN   \n",
       "\n",
       "   Freedom to make life choices  Generosity  Perceptions of corruption  \n",
       "0                         0.498       0.153                      0.028  \n",
       "1                         0.508         NaN                      0.078  \n",
       "2                         0.557         NaN                      0.089  "
      ]
     },
     "execution_count": 18,
     "metadata": {},
     "output_type": "execute_result"
    }
   ],
   "source": [
    "df2019.mode()"
   ]
  },
  {
   "cell_type": "markdown",
   "metadata": {},
   "source": [
    "### Range "
   ]
  },
  {
   "cell_type": "code",
   "execution_count": 26,
   "metadata": {},
   "outputs": [
    {
     "data": {
      "text/plain": [
       "Score                           4.916\n",
       "GDP per capita                  1.684\n",
       "Social support                  1.624\n",
       "Healthy life expectancy         1.141\n",
       "Freedom to make life choices    0.631\n",
       "Generosity                      0.566\n",
       "Perceptions of corruption       0.453\n",
       "dtype: float64"
      ]
     },
     "execution_count": 26,
     "metadata": {},
     "output_type": "execute_result"
    }
   ],
   "source": [
    "df2019_range = df2019.max() - df2019.min() \n",
    "df2019_range"
   ]
  },
  {
   "cell_type": "markdown",
   "metadata": {},
   "source": [
    "### Q1, Q2, Q3"
   ]
  },
  {
   "cell_type": "code",
   "execution_count": 3,
   "metadata": {},
   "outputs": [
    {
     "data": {
      "text/plain": [
       "Score                           4.54450\n",
       "GDP per capita                  0.60275\n",
       "Social support                  1.05575\n",
       "Healthy life expectancy         0.54775\n",
       "Freedom to make life choices    0.30800\n",
       "Generosity                      0.10875\n",
       "Perceptions of corruption       0.04700\n",
       "Name: 25%, dtype: float64"
      ]
     },
     "execution_count": 3,
     "metadata": {},
     "output_type": "execute_result"
    }
   ],
   "source": [
    "describe2019 = df2019.describe()\n",
    "describe2019.loc['25%']"
   ]
  },
  {
   "cell_type": "code",
   "execution_count": 35,
   "metadata": {},
   "outputs": [
    {
     "data": {
      "text/plain": [
       "Score                           5.3795\n",
       "GDP per capita                  0.9600\n",
       "Social support                  1.2715\n",
       "Healthy life expectancy         0.7890\n",
       "Freedom to make life choices    0.4170\n",
       "Generosity                      0.1775\n",
       "Perceptions of corruption       0.0855\n",
       "Name: 50%, dtype: float64"
      ]
     },
     "execution_count": 35,
     "metadata": {},
     "output_type": "execute_result"
    }
   ],
   "source": [
    "describe2019.loc['50%']"
   ]
  },
  {
   "cell_type": "code",
   "execution_count": 36,
   "metadata": {},
   "outputs": [
    {
     "data": {
      "text/plain": [
       "Score                           6.18450\n",
       "GDP per capita                  1.23250\n",
       "Social support                  1.45250\n",
       "Healthy life expectancy         0.88175\n",
       "Freedom to make life choices    0.50725\n",
       "Generosity                      0.24825\n",
       "Perceptions of corruption       0.14125\n",
       "Name: 75%, dtype: float64"
      ]
     },
     "execution_count": 36,
     "metadata": {},
     "output_type": "execute_result"
    }
   ],
   "source": [
    "describe2019.loc['75%']"
   ]
  },
  {
   "cell_type": "markdown",
   "metadata": {},
   "source": [
    "### IQR"
   ]
  },
  {
   "cell_type": "code",
   "execution_count": 37,
   "metadata": {},
   "outputs": [
    {
     "data": {
      "text/plain": [
       "Score                           1.64000\n",
       "GDP per capita                  0.62975\n",
       "Social support                  0.39675\n",
       "Healthy life expectancy         0.33400\n",
       "Freedom to make life choices    0.19925\n",
       "Generosity                      0.13950\n",
       "Perceptions of corruption       0.09425\n",
       "dtype: float64"
      ]
     },
     "execution_count": 37,
     "metadata": {},
     "output_type": "execute_result"
    }
   ],
   "source": [
    "describe2019.loc['75%'] - describe2019.loc['25%']"
   ]
  },
  {
   "cell_type": "markdown",
   "metadata": {},
   "source": [
    "### STD "
   ]
  },
  {
   "cell_type": "code",
   "execution_count": 38,
   "metadata": {},
   "outputs": [
    {
     "data": {
      "text/plain": [
       "Score                           1.113120\n",
       "GDP per capita                  0.398389\n",
       "Social support                  0.299191\n",
       "Healthy life expectancy         0.242124\n",
       "Freedom to make life choices    0.143289\n",
       "Generosity                      0.095254\n",
       "Perceptions of corruption       0.094538\n",
       "Name: std, dtype: float64"
      ]
     },
     "execution_count": 38,
     "metadata": {},
     "output_type": "execute_result"
    }
   ],
   "source": [
    "describe2019.loc['std']"
   ]
  },
  {
   "cell_type": "markdown",
   "metadata": {},
   "source": [
    "### Variance"
   ]
  },
  {
   "cell_type": "code",
   "execution_count": 39,
   "metadata": {},
   "outputs": [
    {
     "data": {
      "text/plain": [
       "Score                           1.239036\n",
       "GDP per capita                  0.158714\n",
       "Social support                  0.089515\n",
       "Healthy life expectancy         0.058624\n",
       "Freedom to make life choices    0.020532\n",
       "Generosity                      0.009073\n",
       "Perceptions of corruption       0.008937\n",
       "dtype: float64"
      ]
     },
     "execution_count": 39,
     "metadata": {},
     "output_type": "execute_result"
    }
   ],
   "source": [
    "df2019.var()"
   ]
  },
  {
   "cell_type": "markdown",
   "metadata": {},
   "source": [
    "### Z-Score"
   ]
  },
  {
   "cell_type": "code",
   "execution_count": 71,
   "metadata": {},
   "outputs": [
    {
     "data": {
      "text/html": [
       "<div>\n",
       "<style scoped>\n",
       "    .dataframe tbody tr th:only-of-type {\n",
       "        vertical-align: middle;\n",
       "    }\n",
       "\n",
       "    .dataframe tbody tr th {\n",
       "        vertical-align: top;\n",
       "    }\n",
       "\n",
       "    .dataframe thead th {\n",
       "        text-align: right;\n",
       "    }\n",
       "</style>\n",
       "<table border=\"1\" class=\"dataframe\">\n",
       "  <thead>\n",
       "    <tr style=\"text-align: right;\">\n",
       "      <th></th>\n",
       "      <th>Score_zscore</th>\n",
       "      <th>GDP per capita_zscore</th>\n",
       "      <th>Social support_zscore</th>\n",
       "      <th>Healthy life expectancy_zscore</th>\n",
       "      <th>Freedom to make life choices_zscore</th>\n",
       "      <th>Generosity_zscore</th>\n",
       "      <th>Perceptions of corruption_zscore</th>\n",
       "    </tr>\n",
       "  </thead>\n",
       "  <tbody>\n",
       "    <tr>\n",
       "      <td>0</td>\n",
       "      <td>2.121877</td>\n",
       "      <td>1.091526</td>\n",
       "      <td>1.264027</td>\n",
       "      <td>1.076954</td>\n",
       "      <td>1.419710</td>\n",
       "      <td>-0.334327</td>\n",
       "      <td>2.987137</td>\n",
       "    </tr>\n",
       "    <tr>\n",
       "      <td>1</td>\n",
       "      <td>1.970052</td>\n",
       "      <td>1.199461</td>\n",
       "      <td>1.217234</td>\n",
       "      <td>1.118255</td>\n",
       "      <td>1.391794</td>\n",
       "      <td>0.704994</td>\n",
       "      <td>3.166959</td>\n",
       "    </tr>\n",
       "    <tr>\n",
       "      <td>2</td>\n",
       "      <td>1.928727</td>\n",
       "      <td>1.463022</td>\n",
       "      <td>1.247315</td>\n",
       "      <td>1.250419</td>\n",
       "      <td>1.468562</td>\n",
       "      <td>0.904460</td>\n",
       "      <td>2.437092</td>\n",
       "    </tr>\n",
       "    <tr>\n",
       "      <td>3</td>\n",
       "      <td>1.874824</td>\n",
       "      <td>1.191931</td>\n",
       "      <td>1.387693</td>\n",
       "      <td>1.242159</td>\n",
       "      <td>1.384816</td>\n",
       "      <td>1.775811</td>\n",
       "      <td>0.078248</td>\n",
       "    </tr>\n",
       "    <tr>\n",
       "      <td>4</td>\n",
       "      <td>1.869434</td>\n",
       "      <td>1.232092</td>\n",
       "      <td>1.046774</td>\n",
       "      <td>1.130646</td>\n",
       "      <td>1.147534</td>\n",
       "      <td>1.439868</td>\n",
       "      <td>1.982248</td>\n",
       "    </tr>\n",
       "    <tr>\n",
       "      <td>...</td>\n",
       "      <td>...</td>\n",
       "      <td>...</td>\n",
       "      <td>...</td>\n",
       "      <td>...</td>\n",
       "      <td>...</td>\n",
       "      <td>...</td>\n",
       "      <td>...</td>\n",
       "    </tr>\n",
       "    <tr>\n",
       "      <td>151</td>\n",
       "      <td>-1.862420</td>\n",
       "      <td>-1.370888</td>\n",
       "      <td>-1.663865</td>\n",
       "      <td>-0.459449</td>\n",
       "      <td>1.133576</td>\n",
       "      <td>0.337557</td>\n",
       "      <td>3.177537</td>\n",
       "    </tr>\n",
       "    <tr>\n",
       "      <td>152</td>\n",
       "      <td>-1.954952</td>\n",
       "      <td>-1.077206</td>\n",
       "      <td>-1.082297</td>\n",
       "      <td>-0.934412</td>\n",
       "      <td>0.170490</td>\n",
       "      <td>0.956951</td>\n",
       "      <td>0.385004</td>\n",
       "    </tr>\n",
       "    <tr>\n",
       "      <td>153</td>\n",
       "      <td>-1.980107</td>\n",
       "      <td>-1.393479</td>\n",
       "      <td>-2.312279</td>\n",
       "      <td>-1.504368</td>\n",
       "      <td>-2.739702</td>\n",
       "      <td>-0.281836</td>\n",
       "      <td>-0.905485</td>\n",
       "    </tr>\n",
       "    <tr>\n",
       "      <td>154</td>\n",
       "      <td>-2.087912</td>\n",
       "      <td>-2.206754</td>\n",
       "      <td>-4.040270</td>\n",
       "      <td>-2.561677</td>\n",
       "      <td>-1.169454</td>\n",
       "      <td>0.526525</td>\n",
       "      <td>-0.799707</td>\n",
       "    </tr>\n",
       "    <tr>\n",
       "      <td>155</td>\n",
       "      <td>-2.294538</td>\n",
       "      <td>-1.503924</td>\n",
       "      <td>-2.118424</td>\n",
       "      <td>-1.776956</td>\n",
       "      <td>-2.669914</td>\n",
       "      <td>0.180084</td>\n",
       "      <td>-0.207352</td>\n",
       "    </tr>\n",
       "  </tbody>\n",
       "</table>\n",
       "<p>156 rows × 7 columns</p>\n",
       "</div>"
      ],
      "text/plain": [
       "     Score_zscore  GDP per capita_zscore  Social support_zscore  \\\n",
       "0        2.121877               1.091526               1.264027   \n",
       "1        1.970052               1.199461               1.217234   \n",
       "2        1.928727               1.463022               1.247315   \n",
       "3        1.874824               1.191931               1.387693   \n",
       "4        1.869434               1.232092               1.046774   \n",
       "..            ...                    ...                    ...   \n",
       "151     -1.862420              -1.370888              -1.663865   \n",
       "152     -1.954952              -1.077206              -1.082297   \n",
       "153     -1.980107              -1.393479              -2.312279   \n",
       "154     -2.087912              -2.206754              -4.040270   \n",
       "155     -2.294538              -1.503924              -2.118424   \n",
       "\n",
       "     Healthy life expectancy_zscore  Freedom to make life choices_zscore  \\\n",
       "0                          1.076954                             1.419710   \n",
       "1                          1.118255                             1.391794   \n",
       "2                          1.250419                             1.468562   \n",
       "3                          1.242159                             1.384816   \n",
       "4                          1.130646                             1.147534   \n",
       "..                              ...                                  ...   \n",
       "151                       -0.459449                             1.133576   \n",
       "152                       -0.934412                             0.170490   \n",
       "153                       -1.504368                            -2.739702   \n",
       "154                       -2.561677                            -1.169454   \n",
       "155                       -1.776956                            -2.669914   \n",
       "\n",
       "     Generosity_zscore  Perceptions of corruption_zscore  \n",
       "0            -0.334327                          2.987137  \n",
       "1             0.704994                          3.166959  \n",
       "2             0.904460                          2.437092  \n",
       "3             1.775811                          0.078248  \n",
       "4             1.439868                          1.982248  \n",
       "..                 ...                               ...  \n",
       "151           0.337557                          3.177537  \n",
       "152           0.956951                          0.385004  \n",
       "153          -0.281836                         -0.905485  \n",
       "154           0.526525                         -0.799707  \n",
       "155           0.180084                         -0.207352  \n",
       "\n",
       "[156 rows x 7 columns]"
      ]
     },
     "execution_count": 71,
     "metadata": {},
     "output_type": "execute_result"
    }
   ],
   "source": [
    "df2019_zscore = pd.read_csv('world-happiness/2019.csv') \n",
    "del df2019_zscore['Overall rank'] \n",
    "del df2019_zscore['Country or region']\n",
    "list_column = list(df2019_zscore.columns)\n",
    "\n",
    "df2019_zscore = []\n",
    "df2019_zscore = df2019\n",
    "list_col_baru = []\n",
    "\n",
    "for a in list_column:\n",
    "    column_zscore = a + '_zscore' \n",
    "    list_col_baru.append(column_zscore)\n",
    "    df2019_zscore[column_zscore] = (df2019_zcore[a] - df2019_zcore[a].mean())/df2019_zcore[a].std(ddof=1)\n",
    "\n",
    "df2019_zscore = df2019_zscore[list_col_baru]\n",
    "\n",
    "df2019_zscore"
   ]
  },
  {
   "cell_type": "markdown",
   "metadata": {},
   "source": [
    "### Outlier IQR Method"
   ]
  },
  {
   "cell_type": "code",
   "execution_count": 51,
   "metadata": {},
   "outputs": [
    {
     "data": {
      "text/plain": [
       "['Score',\n",
       " 'GDP per capita',\n",
       " 'Social support',\n",
       " 'Healthy life expectancy',\n",
       " 'Freedom to make life choices',\n",
       " 'Generosity',\n",
       " 'Perceptions of corruption']"
      ]
     },
     "execution_count": 51,
     "metadata": {},
     "output_type": "execute_result"
    }
   ],
   "source": [
    "list_column"
   ]
  },
  {
   "cell_type": "code",
   "execution_count": 25,
   "metadata": {},
   "outputs": [],
   "source": [
    "describe2019 = df2019.describe()\n",
    "IQR = describe2019.loc['75%'] - describe2019.loc['25%']\n",
    "lowIQR = describe2019.loc['25%'] - (1.5*IQR)\n",
    "highIQR = describe2019.loc['75%'] + (1.5*IQR)"
   ]
  },
  {
   "cell_type": "code",
   "execution_count": 24,
   "metadata": {},
   "outputs": [
    {
     "name": "stdout",
     "output_type": "stream",
     "text": [
      "Empty DataFrame\n",
      "Columns: [Score]\n",
      "Index: [] Empty DataFrame\n",
      "Columns: [Score]\n",
      "Index: []\n"
     ]
    }
   ],
   "source": [
    "dfscore = df2019[['Score']] \n",
    "tampung = dfscore < lowIQR['Score'] \n",
    "tampung2 = dfscore > highIQR['Score']\n",
    "dfscore = dfscore[tampung].dropna() \n",
    "dfscore2 = dfscore[tampung2].dropna()\n",
    "print(dfscore, dfscore2)"
   ]
  },
  {
   "cell_type": "code",
   "execution_count": 23,
   "metadata": {},
   "outputs": [
    {
     "name": "stdout",
     "output_type": "stream",
     "text": [
      "Empty DataFrame\n",
      "Columns: [GDP per capita]\n",
      "Index: [] Empty DataFrame\n",
      "Columns: [GDP per capita]\n",
      "Index: []\n"
     ]
    }
   ],
   "source": [
    "dfgdp = df2019[['GDP per capita']] \n",
    "tampung = dfgdp < lowIQR['GDP per capita'] \n",
    "tampung2 = dfgdp > highIQR['GDP per capita']\n",
    "dfgdp = dfgdp[tampung].dropna() \n",
    "dfgdp2 = dfgdp[tampung2].dropna()\n",
    "print(dfgdp, dfgdp2)"
   ]
  },
  {
   "cell_type": "code",
   "execution_count": 27,
   "metadata": {},
   "outputs": [
    {
     "name": "stdout",
     "output_type": "stream",
     "text": [
      "     Social support\n",
      "101           0.437\n",
      "144           0.447\n",
      "148           0.378\n",
      "154           0.000 Empty DataFrame\n",
      "Columns: [Social support]\n",
      "Index: []\n"
     ]
    }
   ],
   "source": [
    "dfsocial = df2019[['Social support']] \n",
    "tampung = dfsocial< lowIQR['Social support'] \n",
    "tampung2 = dfsocial > highIQR['Social support']\n",
    "dfsocial = dfsocial[tampung].dropna() \n",
    "dfsocial2 = dfsocial[tampung2].dropna()\n",
    "print(dfsocial, dfsocial2)"
   ]
  },
  {
   "cell_type": "code",
   "execution_count": 21,
   "metadata": {},
   "outputs": [
    {
     "name": "stdout",
     "output_type": "stream",
     "text": [
      "     Healthy life expectancy\n",
      "134                      0.0 Empty DataFrame\n",
      "Columns: [Healthy life expectancy]\n",
      "Index: []\n"
     ]
    }
   ],
   "source": [
    "dfhealthy = df2019[['Healthy life expectancy']] \n",
    "tampung = dfhealthy < lowIQR['Healthy life expectancy'] \n",
    "tampung2 = dfhealthy > highIQR['Healthy life expectancy']\n",
    "dfhealthy = dfhealthy[tampung].dropna() \n",
    "dfhealthy2 = dfhealthy[tampung2].dropna()\n",
    "print(dfhealthy, dfhealthy2)"
   ]
  },
  {
   "cell_type": "code",
   "execution_count": 20,
   "metadata": {},
   "outputs": [
    {
     "name": "stdout",
     "output_type": "stream",
     "text": [
      "     Freedom to make life choices\n",
      "153                           0.0 Empty DataFrame\n",
      "Columns: [Freedom to make life choices]\n",
      "Index: []\n"
     ]
    }
   ],
   "source": [
    "dffreedom = df2019[['Freedom to make life choices']] \n",
    "tampung = dffreedom < lowIQR['Freedom to make life choices'] \n",
    "tampung2 = dffreedom > highIQR['Freedom to make life choices']\n",
    "dffreedom= dffreedom[tampung].dropna() \n",
    "dffreedom2 = dffreedom[tampung2].dropna()\n",
    "print(dffreedom, dffreedom2)"
   ]
  },
  {
   "cell_type": "code",
   "execution_count": 19,
   "metadata": {},
   "outputs": [
    {
     "name": "stdout",
     "output_type": "stream",
     "text": [
      "Empty DataFrame\n",
      "Columns: [Generosity]\n",
      "Index: [] Empty DataFrame\n",
      "Columns: [Generosity]\n",
      "Index: []\n"
     ]
    }
   ],
   "source": [
    "dfgenerosity = df2019[['Generosity']] \n",
    "tampung = dfgenerosity < lowIQR['Generosity'] \n",
    "tampung2 = dfgenerosity > highIQR['Generosity']\n",
    "dfgenerosity = dfgenerosity[tampung].dropna() \n",
    "dfgenerosity2 = dfgenerosity[tampung2].dropna()\n",
    "print(dfgenerosity, dfgenerosity2)"
   ]
  },
  {
   "cell_type": "code",
   "execution_count": 18,
   "metadata": {},
   "outputs": [
    {
     "name": "stdout",
     "output_type": "stream",
     "text": [
      "Empty DataFrame\n",
      "Columns: [Perceptions of corruption]\n",
      "Index: [] Empty DataFrame\n",
      "Columns: [Perceptions of corruption]\n",
      "Index: []\n"
     ]
    }
   ],
   "source": [
    "dfperception = df2019[['Perceptions of corruption']] \n",
    "tampung = dfperception < lowIQR['Perceptions of corruption'] \n",
    "tampung2 = dfperception > highIQR['Perceptions of corruption']\n",
    "dfperception= dfperception[tampung].dropna() \n",
    "dfperception2 = dfperception[tampung2].dropna()\n",
    "print(dfperception, dfperception2)"
   ]
  },
  {
   "cell_type": "markdown",
   "metadata": {},
   "source": [
    "### Outlier Z-Score Method"
   ]
  },
  {
   "cell_type": "code",
   "execution_count": 28,
   "metadata": {},
   "outputs": [],
   "source": [
    "describe2019 = df2019.describe()\n",
    "lowZ = df2019.mean() - (2.5*describe2019.loc['std'])\n",
    "highZ = df2019.mean() + (2.5*describe2019.loc['std'])"
   ]
  },
  {
   "cell_type": "code",
   "execution_count": 29,
   "metadata": {},
   "outputs": [
    {
     "name": "stdout",
     "output_type": "stream",
     "text": [
      "Empty DataFrame\n",
      "Columns: [Score]\n",
      "Index: [] Empty DataFrame\n",
      "Columns: [Score]\n",
      "Index: []\n"
     ]
    }
   ],
   "source": [
    "dfscore = df2019[['Score']] \n",
    "tampung = dfscore < lowZ['Score'] \n",
    "tampung2 = dfscore > highZ['Score']\n",
    "dfscore = dfscore[tampung].dropna() \n",
    "dfscore2 = dfscore[tampung2].dropna()\n",
    "print(dfscore, dfscore2)"
   ]
  },
  {
   "cell_type": "code",
   "execution_count": 30,
   "metadata": {},
   "outputs": [
    {
     "name": "stdout",
     "output_type": "stream",
     "text": [
      "Empty DataFrame\n",
      "Columns: [GDP per capita]\n",
      "Index: [] Empty DataFrame\n",
      "Columns: [GDP per capita]\n",
      "Index: []\n"
     ]
    }
   ],
   "source": [
    "dfgdp = df2019[['GDP per capita']] \n",
    "tampung = dfgdp < lowZ['GDP per capita'] \n",
    "tampung2 = dfgdp > highZ['GDP per capita']\n",
    "dfgdp = dfgdp[tampung].dropna() \n",
    "dfgdp2 = dfgdp[tampung2].dropna()\n",
    "print(dfgdp, dfgdp2)"
   ]
  },
  {
   "cell_type": "code",
   "execution_count": 31,
   "metadata": {},
   "outputs": [
    {
     "name": "stdout",
     "output_type": "stream",
     "text": [
      "     Social support\n",
      "101           0.437\n",
      "144           0.447\n",
      "148           0.378\n",
      "154           0.000 Empty DataFrame\n",
      "Columns: [Social support]\n",
      "Index: []\n"
     ]
    }
   ],
   "source": [
    "dfsocial = df2019[['Social support']] \n",
    "tampung = dfsocial< lowZ['Social support'] \n",
    "tampung2 = dfsocial > highZ['Social support']\n",
    "dfsocial = dfsocial[tampung].dropna() \n",
    "dfsocial2 = dfsocial[tampung2].dropna()\n",
    "print(dfsocial, dfsocial2)"
   ]
  },
  {
   "cell_type": "code",
   "execution_count": 32,
   "metadata": {},
   "outputs": [
    {
     "name": "stdout",
     "output_type": "stream",
     "text": [
      "     Healthy life expectancy\n",
      "134                    0.000\n",
      "154                    0.105 Empty DataFrame\n",
      "Columns: [Healthy life expectancy]\n",
      "Index: []\n"
     ]
    }
   ],
   "source": [
    "dfhealthy = df2019[['Healthy life expectancy']] \n",
    "tampung = dfhealthy < lowZ['Healthy life expectancy'] \n",
    "tampung2 = dfhealthy > highZ['Healthy life expectancy']\n",
    "dfhealthy = dfhealthy[tampung].dropna() \n",
    "dfhealthy2 = dfhealthy[tampung2].dropna()\n",
    "print(dfhealthy, dfhealthy2)"
   ]
  },
  {
   "cell_type": "code",
   "execution_count": 33,
   "metadata": {},
   "outputs": [
    {
     "name": "stdout",
     "output_type": "stream",
     "text": [
      "     Freedom to make life choices\n",
      "146                         0.026\n",
      "148                         0.013\n",
      "153                         0.000\n",
      "155                         0.010 Empty DataFrame\n",
      "Columns: [Freedom to make life choices]\n",
      "Index: []\n"
     ]
    }
   ],
   "source": [
    "dffreedom = df2019[['Freedom to make life choices']] \n",
    "tampung = dffreedom < lowZ['Freedom to make life choices'] \n",
    "tampung2 = dffreedom > highZ['Freedom to make life choices']\n",
    "dffreedom= dffreedom[tampung].dropna() \n",
    "dffreedom2 = dffreedom[tampung2].dropna()\n",
    "print(dffreedom, dffreedom2)"
   ]
  },
  {
   "cell_type": "code",
   "execution_count": 34,
   "metadata": {},
   "outputs": [
    {
     "name": "stdout",
     "output_type": "stream",
     "text": [
      "Empty DataFrame\n",
      "Columns: [Generosity]\n",
      "Index: [] Empty DataFrame\n",
      "Columns: [Generosity]\n",
      "Index: []\n"
     ]
    }
   ],
   "source": [
    "dfgenerosity = df2019[['Generosity']] \n",
    "tampung = dfgenerosity < lowZ['Generosity'] \n",
    "tampung2 = dfgenerosity > highZ['Generosity']\n",
    "dfgenerosity = dfgenerosity[tampung].dropna() \n",
    "dfgenerosity2 = dfgenerosity[tampung2].dropna()\n",
    "print(dfgenerosity, dfgenerosity2)"
   ]
  },
  {
   "cell_type": "code",
   "execution_count": 35,
   "metadata": {},
   "outputs": [
    {
     "name": "stdout",
     "output_type": "stream",
     "text": [
      "Empty DataFrame\n",
      "Columns: [Perceptions of corruption]\n",
      "Index: [] Empty DataFrame\n",
      "Columns: [Perceptions of corruption]\n",
      "Index: []\n"
     ]
    }
   ],
   "source": [
    "dfperception = df2019[['Perceptions of corruption']] \n",
    "tampung = dfperception < lowZ['Perceptions of corruption'] \n",
    "tampung2 = dfperception > highZ['Perceptions of corruption']\n",
    "dfperception= dfperception[tampung].dropna() \n",
    "dfperception2 = dfperception[tampung2].dropna()\n",
    "print(dfperception, dfperception2)"
   ]
  },
  {
   "cell_type": "markdown",
   "metadata": {},
   "source": [
    "### BoxPlot"
   ]
  },
  {
   "cell_type": "code",
   "execution_count": 10,
   "metadata": {},
   "outputs": [
    {
     "data": {
      "image/png": "[encoded data removed]",
      "text/plain": [
       "<Figure size 1152x1440 with 7 Axes>"
      ]
     },
     "metadata": {
      "needs_background": "light"
     },
     "output_type": "display_data"
    }
   ],
   "source": [
    "df2019 = pd.read_csv('world-happiness/2019.csv') \n",
    "df2019_asli = df2019\n",
    "del df2019['Overall rank'] \n",
    "del df2019['Country or region']\n",
    "\n",
    "list_column = list(df2019.columns) \n",
    "\n",
    "plt.figure(figsize=(16,20))\n",
    "plt.subplot(421)\n",
    "plt.boxplot(df2019['Score'])  \n",
    "plt.title('Score')\n",
    "\n",
    "plt.subplot(422)\n",
    "plt.boxplot(df2019['GDP per capita'])  \n",
    "plt.title('GDP per capita')\n",
    "\n",
    "plt.subplot(423)\n",
    "plt.boxplot(df2019['Social support'])  \n",
    "plt.title('Social support')\n",
    "\n",
    "plt.subplot(424)\n",
    "plt.boxplot(df2019['Healthy life expectancy'])  \n",
    "plt.title('Healthy life expectancy')\n",
    "\n",
    "plt.subplot(425)\n",
    "plt.boxplot(df2019['Freedom to make life choices'])  \n",
    "plt.title('Freedom to make life choices')\n",
    "\n",
    "plt.subplot(426)\n",
    "plt.boxplot(df2019['Generosity'])  \n",
    "plt.title('Generosity')\n",
    "\n",
    "plt.subplot(427)\n",
    "plt.boxplot(df2019['Perceptions of corruption'])  \n",
    "plt.title('Perceptions of corruption')\n",
    "\n",
    "plt.show()"
   ]
  },
  {
   "cell_type": "markdown",
   "metadata": {},
   "source": [
    "### Histogram"
   ]
  },
  {
   "cell_type": "code",
   "execution_count": 11,
   "metadata": {},
   "outputs": [
    {
     "data": {
      "image/png": "[encoded data removed]",
      "text/plain": [
       "<Figure size 1152x1440 with 7 Axes>"
      ]
     },
     "metadata": {
      "needs_background": "light"
     },
     "output_type": "display_data"
    }
   ],
   "source": [
    "df2019 = pd.read_csv('world-happiness/2019.csv') \n",
    "df2019_asli = df2019\n",
    "del df2019['Overall rank'] \n",
    "del df2019['Country or region']\n",
    "\n",
    "list_column = list(df2019.columns) \n",
    "\n",
    "plt.figure(figsize=(16,20))\n",
    "plt.subplot(421)\n",
    "plt.hist(df2019['Score'])  \n",
    "plt.title('Score')\n",
    "\n",
    "plt.subplot(422)\n",
    "plt.hist(df2019['GDP per capita'])  \n",
    "plt.title('GDP per capita')\n",
    "\n",
    "plt.subplot(423)\n",
    "plt.hist(df2019['Social support'])  \n",
    "plt.title('Social support')\n",
    "\n",
    "plt.subplot(424)\n",
    "plt.hist(df2019['Healthy life expectancy'])  \n",
    "plt.title('Healthy life expectancy')\n",
    "\n",
    "plt.subplot(425)\n",
    "plt.hist(df2019['Freedom to make life choices'])  \n",
    "plt.title('Freedom to make life choices')\n",
    "\n",
    "plt.subplot(426)\n",
    "plt.hist(df2019['Generosity'])  \n",
    "plt.title('Generosity')\n",
    "\n",
    "plt.subplot(427)\n",
    "plt.hist(df2019['Perceptions of corruption'])  \n",
    "plt.title('Perceptions of corruption')\n",
    "\n",
    "plt.show()"
   ]
  },
  {
   "cell_type": "markdown",
   "metadata": {},
   "source": [
    "### Covariance"
   ]
  },
  {
   "cell_type": "code",
   "execution_count": 14,
   "metadata": {},
   "outputs": [
    {
     "data": {
      "text/html": [
       "<div>\n",
       "<style scoped>\n",
       "    .dataframe tbody tr th:only-of-type {\n",
       "        vertical-align: middle;\n",
       "    }\n",
       "\n",
       "    .dataframe tbody tr th {\n",
       "        vertical-align: top;\n",
       "    }\n",
       "\n",
       "    .dataframe thead th {\n",
       "        text-align: right;\n",
       "    }\n",
       "</style>\n",
       "<table border=\"1\" class=\"dataframe\">\n",
       "  <thead>\n",
       "    <tr style=\"text-align: right;\">\n",
       "      <th></th>\n",
       "      <th>Score</th>\n",
       "      <th>GDP per capita</th>\n",
       "      <th>Social support</th>\n",
       "      <th>Healthy life expectancy</th>\n",
       "      <th>Freedom to make life choices</th>\n",
       "      <th>Generosity</th>\n",
       "      <th>Perceptions of corruption</th>\n",
       "    </tr>\n",
       "  </thead>\n",
       "  <tbody>\n",
       "    <tr>\n",
       "      <td>Score</td>\n",
       "      <td>1.239036</td>\n",
       "      <td>0.352052</td>\n",
       "      <td>0.258788</td>\n",
       "      <td>0.210189</td>\n",
       "      <td>0.090394</td>\n",
       "      <td>0.008040</td>\n",
       "      <td>0.040579</td>\n",
       "    </tr>\n",
       "    <tr>\n",
       "      <td>GDP per capita</td>\n",
       "      <td>0.352052</td>\n",
       "      <td>0.158714</td>\n",
       "      <td>0.089981</td>\n",
       "      <td>0.080588</td>\n",
       "      <td>0.021640</td>\n",
       "      <td>-0.003023</td>\n",
       "      <td>0.011258</td>\n",
       "    </tr>\n",
       "    <tr>\n",
       "      <td>Social support</td>\n",
       "      <td>0.258788</td>\n",
       "      <td>0.089981</td>\n",
       "      <td>0.089515</td>\n",
       "      <td>0.052086</td>\n",
       "      <td>0.019178</td>\n",
       "      <td>-0.001372</td>\n",
       "      <td>0.005145</td>\n",
       "    </tr>\n",
       "    <tr>\n",
       "      <td>Healthy life expectancy</td>\n",
       "      <td>0.210189</td>\n",
       "      <td>0.080588</td>\n",
       "      <td>0.052086</td>\n",
       "      <td>0.058624</td>\n",
       "      <td>0.013544</td>\n",
       "      <td>-0.000681</td>\n",
       "      <td>0.006759</td>\n",
       "    </tr>\n",
       "    <tr>\n",
       "      <td>Freedom to make life choices</td>\n",
       "      <td>0.090394</td>\n",
       "      <td>0.021640</td>\n",
       "      <td>0.019178</td>\n",
       "      <td>0.013544</td>\n",
       "      <td>0.020532</td>\n",
       "      <td>0.003682</td>\n",
       "      <td>0.005945</td>\n",
       "    </tr>\n",
       "    <tr>\n",
       "      <td>Generosity</td>\n",
       "      <td>0.008040</td>\n",
       "      <td>-0.003023</td>\n",
       "      <td>-0.001372</td>\n",
       "      <td>-0.000681</td>\n",
       "      <td>0.003682</td>\n",
       "      <td>0.009073</td>\n",
       "      <td>0.002941</td>\n",
       "    </tr>\n",
       "    <tr>\n",
       "      <td>Perceptions of corruption</td>\n",
       "      <td>0.040579</td>\n",
       "      <td>0.011258</td>\n",
       "      <td>0.005145</td>\n",
       "      <td>0.006759</td>\n",
       "      <td>0.005945</td>\n",
       "      <td>0.002941</td>\n",
       "      <td>0.008937</td>\n",
       "    </tr>\n",
       "  </tbody>\n",
       "</table>\n",
       "</div>"
      ],
      "text/plain": [
       "                                 Score  GDP per capita  Social support  \\\n",
       "Score                         1.239036        0.352052        0.258788   \n",
       "GDP per capita                0.352052        0.158714        0.089981   \n",
       "Social support                0.258788        0.089981        0.089515   \n",
       "Healthy life expectancy       0.210189        0.080588        0.052086   \n",
       "Freedom to make life choices  0.090394        0.021640        0.019178   \n",
       "Generosity                    0.008040       -0.003023       -0.001372   \n",
       "Perceptions of corruption     0.040579        0.011258        0.005145   \n",
       "\n",
       "                              Healthy life expectancy  \\\n",
       "Score                                        0.210189   \n",
       "GDP per capita                               0.080588   \n",
       "Social support                               0.052086   \n",
       "Healthy life expectancy                      0.058624   \n",
       "Freedom to make life choices                 0.013544   \n",
       "Generosity                                  -0.000681   \n",
       "Perceptions of corruption                    0.006759   \n",
       "\n",
       "                              Freedom to make life choices  Generosity  \\\n",
       "Score                                             0.090394    0.008040   \n",
       "GDP per capita                                    0.021640   -0.003023   \n",
       "Social support                                    0.019178   -0.001372   \n",
       "Healthy life expectancy                           0.013544   -0.000681   \n",
       "Freedom to make life choices                      0.020532    0.003682   \n",
       "Generosity                                        0.003682    0.009073   \n",
       "Perceptions of corruption                         0.005945    0.002941   \n",
       "\n",
       "                              Perceptions of corruption  \n",
       "Score                                          0.040579  \n",
       "GDP per capita                                 0.011258  \n",
       "Social support                                 0.005145  \n",
       "Healthy life expectancy                        0.006759  \n",
       "Freedom to make life choices                   0.005945  \n",
       "Generosity                                     0.002941  \n",
       "Perceptions of corruption                      0.008937  "
      ]
     },
     "execution_count": 14,
     "metadata": {},
     "output_type": "execute_result"
    }
   ],
   "source": [
    "df2019.cov()"
   ]
  },
  {
   "cell_type": "markdown",
   "metadata": {},
   "source": [
    "### Pearson"
   ]
  },
  {
   "cell_type": "code",
   "execution_count": 15,
   "metadata": {},
   "outputs": [
    {
     "data": {
      "text/html": [
       "<div>\n",
       "<style scoped>\n",
       "    .dataframe tbody tr th:only-of-type {\n",
       "        vertical-align: middle;\n",
       "    }\n",
       "\n",
       "    .dataframe tbody tr th {\n",
       "        vertical-align: top;\n",
       "    }\n",
       "\n",
       "    .dataframe thead th {\n",
       "        text-align: right;\n",
       "    }\n",
       "</style>\n",
       "<table border=\"1\" class=\"dataframe\">\n",
       "  <thead>\n",
       "    <tr style=\"text-align: right;\">\n",
       "      <th></th>\n",
       "      <th>Score</th>\n",
       "      <th>GDP per capita</th>\n",
       "      <th>Social support</th>\n",
       "      <th>Healthy life expectancy</th>\n",
       "      <th>Freedom to make life choices</th>\n",
       "      <th>Generosity</th>\n",
       "      <th>Perceptions of corruption</th>\n",
       "    </tr>\n",
       "  </thead>\n",
       "  <tbody>\n",
       "    <tr>\n",
       "      <td>Score</td>\n",
       "      <td>1.000000</td>\n",
       "      <td>0.793883</td>\n",
       "      <td>0.777058</td>\n",
       "      <td>0.779883</td>\n",
       "      <td>0.566742</td>\n",
       "      <td>0.075824</td>\n",
       "      <td>0.385613</td>\n",
       "    </tr>\n",
       "    <tr>\n",
       "      <td>GDP per capita</td>\n",
       "      <td>0.793883</td>\n",
       "      <td>1.000000</td>\n",
       "      <td>0.754906</td>\n",
       "      <td>0.835462</td>\n",
       "      <td>0.379079</td>\n",
       "      <td>-0.079662</td>\n",
       "      <td>0.298920</td>\n",
       "    </tr>\n",
       "    <tr>\n",
       "      <td>Social support</td>\n",
       "      <td>0.777058</td>\n",
       "      <td>0.754906</td>\n",
       "      <td>1.000000</td>\n",
       "      <td>0.719009</td>\n",
       "      <td>0.447333</td>\n",
       "      <td>-0.048126</td>\n",
       "      <td>0.181899</td>\n",
       "    </tr>\n",
       "    <tr>\n",
       "      <td>Healthy life expectancy</td>\n",
       "      <td>0.779883</td>\n",
       "      <td>0.835462</td>\n",
       "      <td>0.719009</td>\n",
       "      <td>1.000000</td>\n",
       "      <td>0.390395</td>\n",
       "      <td>-0.029511</td>\n",
       "      <td>0.295283</td>\n",
       "    </tr>\n",
       "    <tr>\n",
       "      <td>Freedom to make life choices</td>\n",
       "      <td>0.566742</td>\n",
       "      <td>0.379079</td>\n",
       "      <td>0.447333</td>\n",
       "      <td>0.390395</td>\n",
       "      <td>1.000000</td>\n",
       "      <td>0.269742</td>\n",
       "      <td>0.438843</td>\n",
       "    </tr>\n",
       "    <tr>\n",
       "      <td>Generosity</td>\n",
       "      <td>0.075824</td>\n",
       "      <td>-0.079662</td>\n",
       "      <td>-0.048126</td>\n",
       "      <td>-0.029511</td>\n",
       "      <td>0.269742</td>\n",
       "      <td>1.000000</td>\n",
       "      <td>0.326538</td>\n",
       "    </tr>\n",
       "    <tr>\n",
       "      <td>Perceptions of corruption</td>\n",
       "      <td>0.385613</td>\n",
       "      <td>0.298920</td>\n",
       "      <td>0.181899</td>\n",
       "      <td>0.295283</td>\n",
       "      <td>0.438843</td>\n",
       "      <td>0.326538</td>\n",
       "      <td>1.000000</td>\n",
       "    </tr>\n",
       "  </tbody>\n",
       "</table>\n",
       "</div>"
      ],
      "text/plain": [
       "                                 Score  GDP per capita  Social support  \\\n",
       "Score                         1.000000        0.793883        0.777058   \n",
       "GDP per capita                0.793883        1.000000        0.754906   \n",
       "Social support                0.777058        0.754906        1.000000   \n",
       "Healthy life expectancy       0.779883        0.835462        0.719009   \n",
       "Freedom to make life choices  0.566742        0.379079        0.447333   \n",
       "Generosity                    0.075824       -0.079662       -0.048126   \n",
       "Perceptions of corruption     0.385613        0.298920        0.181899   \n",
       "\n",
       "                              Healthy life expectancy  \\\n",
       "Score                                        0.779883   \n",
       "GDP per capita                               0.835462   \n",
       "Social support                               0.719009   \n",
       "Healthy life expectancy                      1.000000   \n",
       "Freedom to make life choices                 0.390395   \n",
       "Generosity                                  -0.029511   \n",
       "Perceptions of corruption                    0.295283   \n",
       "\n",
       "                              Freedom to make life choices  Generosity  \\\n",
       "Score                                             0.566742    0.075824   \n",
       "GDP per capita                                    0.379079   -0.079662   \n",
       "Social support                                    0.447333   -0.048126   \n",
       "Healthy life expectancy                           0.390395   -0.029511   \n",
       "Freedom to make life choices                      1.000000    0.269742   \n",
       "Generosity                                        0.269742    1.000000   \n",
       "Perceptions of corruption                         0.438843    0.326538   \n",
       "\n",
       "                              Perceptions of corruption  \n",
       "Score                                          0.385613  \n",
       "GDP per capita                                 0.298920  \n",
       "Social support                                 0.181899  \n",
       "Healthy life expectancy                        0.295283  \n",
       "Freedom to make life choices                   0.438843  \n",
       "Generosity                                     0.326538  \n",
       "Perceptions of corruption                      1.000000  "
      ]
     },
     "execution_count": 15,
     "metadata": {},
     "output_type": "execute_result"
    }
   ],
   "source": [
    "df2019.corr(method='pearson')"
   ]
  },
  {
   "cell_type": "markdown",
   "metadata": {},
   "source": [
    "#### GDP per Capita paling memperngaruhi Score dengan nilai correlation 0.79"
   ]
  },
  {
   "cell_type": "markdown",
   "metadata": {},
   "source": [
    "### Spearman"
   ]
  },
  {
   "cell_type": "code",
   "execution_count": 16,
   "metadata": {},
   "outputs": [
    {
     "data": {
      "text/html": [
       "<div>\n",
       "<style scoped>\n",
       "    .dataframe tbody tr th:only-of-type {\n",
       "        vertical-align: middle;\n",
       "    }\n",
       "\n",
       "    .dataframe tbody tr th {\n",
       "        vertical-align: top;\n",
       "    }\n",
       "\n",
       "    .dataframe thead th {\n",
       "        text-align: right;\n",
       "    }\n",
       "</style>\n",
       "<table border=\"1\" class=\"dataframe\">\n",
       "  <thead>\n",
       "    <tr style=\"text-align: right;\">\n",
       "      <th></th>\n",
       "      <th>Score</th>\n",
       "      <th>GDP per capita</th>\n",
       "      <th>Social support</th>\n",
       "      <th>Healthy life expectancy</th>\n",
       "      <th>Freedom to make life choices</th>\n",
       "      <th>Generosity</th>\n",
       "      <th>Perceptions of corruption</th>\n",
       "    </tr>\n",
       "  </thead>\n",
       "  <tbody>\n",
       "    <tr>\n",
       "      <td>Score</td>\n",
       "      <td>1.000000</td>\n",
       "      <td>0.814483</td>\n",
       "      <td>0.816181</td>\n",
       "      <td>0.807275</td>\n",
       "      <td>0.551974</td>\n",
       "      <td>0.070483</td>\n",
       "      <td>0.217348</td>\n",
       "    </tr>\n",
       "    <tr>\n",
       "      <td>GDP per capita</td>\n",
       "      <td>0.814483</td>\n",
       "      <td>1.000000</td>\n",
       "      <td>0.768539</td>\n",
       "      <td>0.851513</td>\n",
       "      <td>0.393426</td>\n",
       "      <td>-0.041304</td>\n",
       "      <td>0.223203</td>\n",
       "    </tr>\n",
       "    <tr>\n",
       "      <td>Social support</td>\n",
       "      <td>0.816181</td>\n",
       "      <td>0.768539</td>\n",
       "      <td>1.000000</td>\n",
       "      <td>0.725997</td>\n",
       "      <td>0.449491</td>\n",
       "      <td>0.007695</td>\n",
       "      <td>0.114017</td>\n",
       "    </tr>\n",
       "    <tr>\n",
       "      <td>Healthy life expectancy</td>\n",
       "      <td>0.807275</td>\n",
       "      <td>0.851513</td>\n",
       "      <td>0.725997</td>\n",
       "      <td>1.000000</td>\n",
       "      <td>0.412906</td>\n",
       "      <td>-0.006773</td>\n",
       "      <td>0.165309</td>\n",
       "    </tr>\n",
       "    <tr>\n",
       "      <td>Freedom to make life choices</td>\n",
       "      <td>0.551974</td>\n",
       "      <td>0.393426</td>\n",
       "      <td>0.449491</td>\n",
       "      <td>0.412906</td>\n",
       "      <td>1.000000</td>\n",
       "      <td>0.324146</td>\n",
       "      <td>0.403586</td>\n",
       "    </tr>\n",
       "    <tr>\n",
       "      <td>Generosity</td>\n",
       "      <td>0.070483</td>\n",
       "      <td>-0.041304</td>\n",
       "      <td>0.007695</td>\n",
       "      <td>-0.006773</td>\n",
       "      <td>0.324146</td>\n",
       "      <td>1.000000</td>\n",
       "      <td>0.286171</td>\n",
       "    </tr>\n",
       "    <tr>\n",
       "      <td>Perceptions of corruption</td>\n",
       "      <td>0.217348</td>\n",
       "      <td>0.223203</td>\n",
       "      <td>0.114017</td>\n",
       "      <td>0.165309</td>\n",
       "      <td>0.403586</td>\n",
       "      <td>0.286171</td>\n",
       "      <td>1.000000</td>\n",
       "    </tr>\n",
       "  </tbody>\n",
       "</table>\n",
       "</div>"
      ],
      "text/plain": [
       "                                 Score  GDP per capita  Social support  \\\n",
       "Score                         1.000000        0.814483        0.816181   \n",
       "GDP per capita                0.814483        1.000000        0.768539   \n",
       "Social support                0.816181        0.768539        1.000000   \n",
       "Healthy life expectancy       0.807275        0.851513        0.725997   \n",
       "Freedom to make life choices  0.551974        0.393426        0.449491   \n",
       "Generosity                    0.070483       -0.041304        0.007695   \n",
       "Perceptions of corruption     0.217348        0.223203        0.114017   \n",
       "\n",
       "                              Healthy life expectancy  \\\n",
       "Score                                        0.807275   \n",
       "GDP per capita                               0.851513   \n",
       "Social support                               0.725997   \n",
       "Healthy life expectancy                      1.000000   \n",
       "Freedom to make life choices                 0.412906   \n",
       "Generosity                                  -0.006773   \n",
       "Perceptions of corruption                    0.165309   \n",
       "\n",
       "                              Freedom to make life choices  Generosity  \\\n",
       "Score                                             0.551974    0.070483   \n",
       "GDP per capita                                    0.393426   -0.041304   \n",
       "Social support                                    0.449491    0.007695   \n",
       "Healthy life expectancy                           0.412906   -0.006773   \n",
       "Freedom to make life choices                      1.000000    0.324146   \n",
       "Generosity                                        0.324146    1.000000   \n",
       "Perceptions of corruption                         0.403586    0.286171   \n",
       "\n",
       "                              Perceptions of corruption  \n",
       "Score                                          0.217348  \n",
       "GDP per capita                                 0.223203  \n",
       "Social support                                 0.114017  \n",
       "Healthy life expectancy                        0.165309  \n",
       "Freedom to make life choices                   0.403586  \n",
       "Generosity                                     0.286171  \n",
       "Perceptions of corruption                      1.000000  "
      ]
     },
     "execution_count": 16,
     "metadata": {},
     "output_type": "execute_result"
    }
   ],
   "source": [
    "df2019.corr(method='spearman')"
   ]
  },
  {
   "cell_type": "markdown",
   "metadata": {},
   "source": [
    "#### Social support paling memperngaruhi Score dengan nilai correlation 0.816"
   ]
  },
  {
   "cell_type": "markdown",
   "metadata": {},
   "source": [
    "### Kendall"
   ]
  },
  {
   "cell_type": "code",
   "execution_count": 17,
   "metadata": {},
   "outputs": [
    {
     "data": {
      "text/html": [
       "<div>\n",
       "<style scoped>\n",
       "    .dataframe tbody tr th:only-of-type {\n",
       "        vertical-align: middle;\n",
       "    }\n",
       "\n",
       "    .dataframe tbody tr th {\n",
       "        vertical-align: top;\n",
       "    }\n",
       "\n",
       "    .dataframe thead th {\n",
       "        text-align: right;\n",
       "    }\n",
       "</style>\n",
       "<table border=\"1\" class=\"dataframe\">\n",
       "  <thead>\n",
       "    <tr style=\"text-align: right;\">\n",
       "      <th></th>\n",
       "      <th>Score</th>\n",
       "      <th>GDP per capita</th>\n",
       "      <th>Social support</th>\n",
       "      <th>Healthy life expectancy</th>\n",
       "      <th>Freedom to make life choices</th>\n",
       "      <th>Generosity</th>\n",
       "      <th>Perceptions of corruption</th>\n",
       "    </tr>\n",
       "  </thead>\n",
       "  <tbody>\n",
       "    <tr>\n",
       "      <td>Score</td>\n",
       "      <td>1.000000</td>\n",
       "      <td>0.619993</td>\n",
       "      <td>0.616792</td>\n",
       "      <td>0.602613</td>\n",
       "      <td>0.394203</td>\n",
       "      <td>0.043759</td>\n",
       "      <td>0.140974</td>\n",
       "    </tr>\n",
       "    <tr>\n",
       "      <td>GDP per capita</td>\n",
       "      <td>0.619993</td>\n",
       "      <td>1.000000</td>\n",
       "      <td>0.569193</td>\n",
       "      <td>0.655693</td>\n",
       "      <td>0.270837</td>\n",
       "      <td>-0.042451</td>\n",
       "      <td>0.135225</td>\n",
       "    </tr>\n",
       "    <tr>\n",
       "      <td>Social support</td>\n",
       "      <td>0.616792</td>\n",
       "      <td>0.569193</td>\n",
       "      <td>1.000000</td>\n",
       "      <td>0.529983</td>\n",
       "      <td>0.319566</td>\n",
       "      <td>0.000746</td>\n",
       "      <td>0.070270</td>\n",
       "    </tr>\n",
       "    <tr>\n",
       "      <td>Healthy life expectancy</td>\n",
       "      <td>0.602613</td>\n",
       "      <td>0.655693</td>\n",
       "      <td>0.529983</td>\n",
       "      <td>1.000000</td>\n",
       "      <td>0.288418</td>\n",
       "      <td>-0.004901</td>\n",
       "      <td>0.106295</td>\n",
       "    </tr>\n",
       "    <tr>\n",
       "      <td>Freedom to make life choices</td>\n",
       "      <td>0.394203</td>\n",
       "      <td>0.270837</td>\n",
       "      <td>0.319566</td>\n",
       "      <td>0.288418</td>\n",
       "      <td>1.000000</td>\n",
       "      <td>0.226187</td>\n",
       "      <td>0.277792</td>\n",
       "    </tr>\n",
       "    <tr>\n",
       "      <td>Generosity</td>\n",
       "      <td>0.043759</td>\n",
       "      <td>-0.042451</td>\n",
       "      <td>0.000746</td>\n",
       "      <td>-0.004901</td>\n",
       "      <td>0.226187</td>\n",
       "      <td>1.000000</td>\n",
       "      <td>0.188933</td>\n",
       "    </tr>\n",
       "    <tr>\n",
       "      <td>Perceptions of corruption</td>\n",
       "      <td>0.140974</td>\n",
       "      <td>0.135225</td>\n",
       "      <td>0.070270</td>\n",
       "      <td>0.106295</td>\n",
       "      <td>0.277792</td>\n",
       "      <td>0.188933</td>\n",
       "      <td>1.000000</td>\n",
       "    </tr>\n",
       "  </tbody>\n",
       "</table>\n",
       "</div>"
      ],
      "text/plain": [
       "                                 Score  GDP per capita  Social support  \\\n",
       "Score                         1.000000        0.619993        0.616792   \n",
       "GDP per capita                0.619993        1.000000        0.569193   \n",
       "Social support                0.616792        0.569193        1.000000   \n",
       "Healthy life expectancy       0.602613        0.655693        0.529983   \n",
       "Freedom to make life choices  0.394203        0.270837        0.319566   \n",
       "Generosity                    0.043759       -0.042451        0.000746   \n",
       "Perceptions of corruption     0.140974        0.135225        0.070270   \n",
       "\n",
       "                              Healthy life expectancy  \\\n",
       "Score                                        0.602613   \n",
       "GDP per capita                               0.655693   \n",
       "Social support                               0.529983   \n",
       "Healthy life expectancy                      1.000000   \n",
       "Freedom to make life choices                 0.288418   \n",
       "Generosity                                  -0.004901   \n",
       "Perceptions of corruption                    0.106295   \n",
       "\n",
       "                              Freedom to make life choices  Generosity  \\\n",
       "Score                                             0.394203    0.043759   \n",
       "GDP per capita                                    0.270837   -0.042451   \n",
       "Social support                                    0.319566    0.000746   \n",
       "Healthy life expectancy                           0.288418   -0.004901   \n",
       "Freedom to make life choices                      1.000000    0.226187   \n",
       "Generosity                                        0.226187    1.000000   \n",
       "Perceptions of corruption                         0.277792    0.188933   \n",
       "\n",
       "                              Perceptions of corruption  \n",
       "Score                                          0.140974  \n",
       "GDP per capita                                 0.135225  \n",
       "Social support                                 0.070270  \n",
       "Healthy life expectancy                        0.106295  \n",
       "Freedom to make life choices                   0.277792  \n",
       "Generosity                                     0.188933  \n",
       "Perceptions of corruption                      1.000000  "
      ]
     },
     "execution_count": 17,
     "metadata": {},
     "output_type": "execute_result"
    }
   ],
   "source": [
    "df2019.corr(method='kendall')"
   ]
  },
  {
   "cell_type": "markdown",
   "metadata": {},
   "source": [
    "#### GDP per Capita paling memperngaruhi Score dengan nilai correlation 0.61999"
   ]
  },
  {
   "cell_type": "code",
   "execution_count": 32,
   "metadata": {},
   "outputs": [],
   "source": [
    "df2019 = pd.read_csv('world-happiness/2019.csv')"
   ]
  },
  {
   "cell_type": "code",
   "execution_count": 34,
   "metadata": {},
   "outputs": [
    {
     "data": {
      "text/html": [
       "<div>\n",
       "<style scoped>\n",
       "    .dataframe tbody tr th:only-of-type {\n",
       "        vertical-align: middle;\n",
       "    }\n",
       "\n",
       "    .dataframe tbody tr th {\n",
       "        vertical-align: top;\n",
       "    }\n",
       "\n",
       "    .dataframe thead th {\n",
       "        text-align: right;\n",
       "    }\n",
       "</style>\n",
       "<table border=\"1\" class=\"dataframe\">\n",
       "  <thead>\n",
       "    <tr style=\"text-align: right;\">\n",
       "      <th></th>\n",
       "      <th>Overall rank</th>\n",
       "      <th>Country or region</th>\n",
       "      <th>Score</th>\n",
       "      <th>GDP per capita</th>\n",
       "      <th>Social support</th>\n",
       "      <th>Healthy life expectancy</th>\n",
       "      <th>Freedom to make life choices</th>\n",
       "      <th>Generosity</th>\n",
       "      <th>Perceptions of corruption</th>\n",
       "    </tr>\n",
       "  </thead>\n",
       "  <tbody>\n",
       "    <tr>\n",
       "      <td>0</td>\n",
       "      <td>29</td>\n",
       "      <td>Qatar</td>\n",
       "      <td>6.374</td>\n",
       "      <td>1.684</td>\n",
       "      <td>1.313</td>\n",
       "      <td>0.871</td>\n",
       "      <td>0.555</td>\n",
       "      <td>0.220</td>\n",
       "      <td>0.167</td>\n",
       "    </tr>\n",
       "    <tr>\n",
       "      <td>1</td>\n",
       "      <td>14</td>\n",
       "      <td>Luxembourg</td>\n",
       "      <td>7.090</td>\n",
       "      <td>1.609</td>\n",
       "      <td>1.479</td>\n",
       "      <td>1.012</td>\n",
       "      <td>0.526</td>\n",
       "      <td>0.194</td>\n",
       "      <td>0.316</td>\n",
       "    </tr>\n",
       "    <tr>\n",
       "      <td>2</td>\n",
       "      <td>34</td>\n",
       "      <td>Singapore</td>\n",
       "      <td>6.262</td>\n",
       "      <td>1.572</td>\n",
       "      <td>1.463</td>\n",
       "      <td>1.141</td>\n",
       "      <td>0.556</td>\n",
       "      <td>0.271</td>\n",
       "      <td>0.453</td>\n",
       "    </tr>\n",
       "    <tr>\n",
       "      <td>3</td>\n",
       "      <td>21</td>\n",
       "      <td>United Arab Emirates</td>\n",
       "      <td>6.825</td>\n",
       "      <td>1.503</td>\n",
       "      <td>1.310</td>\n",
       "      <td>0.825</td>\n",
       "      <td>0.598</td>\n",
       "      <td>0.262</td>\n",
       "      <td>0.182</td>\n",
       "    </tr>\n",
       "    <tr>\n",
       "      <td>4</td>\n",
       "      <td>51</td>\n",
       "      <td>Kuwait</td>\n",
       "      <td>6.021</td>\n",
       "      <td>1.500</td>\n",
       "      <td>1.319</td>\n",
       "      <td>0.808</td>\n",
       "      <td>0.493</td>\n",
       "      <td>0.142</td>\n",
       "      <td>0.097</td>\n",
       "    </tr>\n",
       "    <tr>\n",
       "      <td>5</td>\n",
       "      <td>16</td>\n",
       "      <td>Ireland</td>\n",
       "      <td>7.021</td>\n",
       "      <td>1.499</td>\n",
       "      <td>1.553</td>\n",
       "      <td>0.999</td>\n",
       "      <td>0.516</td>\n",
       "      <td>0.298</td>\n",
       "      <td>0.310</td>\n",
       "    </tr>\n",
       "    <tr>\n",
       "      <td>6</td>\n",
       "      <td>3</td>\n",
       "      <td>Norway</td>\n",
       "      <td>7.554</td>\n",
       "      <td>1.488</td>\n",
       "      <td>1.582</td>\n",
       "      <td>1.028</td>\n",
       "      <td>0.603</td>\n",
       "      <td>0.271</td>\n",
       "      <td>0.341</td>\n",
       "    </tr>\n",
       "    <tr>\n",
       "      <td>7</td>\n",
       "      <td>6</td>\n",
       "      <td>Switzerland</td>\n",
       "      <td>7.480</td>\n",
       "      <td>1.452</td>\n",
       "      <td>1.526</td>\n",
       "      <td>1.052</td>\n",
       "      <td>0.572</td>\n",
       "      <td>0.263</td>\n",
       "      <td>0.343</td>\n",
       "    </tr>\n",
       "    <tr>\n",
       "      <td>8</td>\n",
       "      <td>76</td>\n",
       "      <td>Hong Kong</td>\n",
       "      <td>5.430</td>\n",
       "      <td>1.438</td>\n",
       "      <td>1.277</td>\n",
       "      <td>1.122</td>\n",
       "      <td>0.440</td>\n",
       "      <td>0.258</td>\n",
       "      <td>0.287</td>\n",
       "    </tr>\n",
       "    <tr>\n",
       "      <td>9</td>\n",
       "      <td>19</td>\n",
       "      <td>United States</td>\n",
       "      <td>6.892</td>\n",
       "      <td>1.433</td>\n",
       "      <td>1.457</td>\n",
       "      <td>0.874</td>\n",
       "      <td>0.454</td>\n",
       "      <td>0.280</td>\n",
       "      <td>0.128</td>\n",
       "    </tr>\n",
       "  </tbody>\n",
       "</table>\n",
       "</div>"
      ],
      "text/plain": [
       "   Overall rank     Country or region  Score  GDP per capita  Social support  \\\n",
       "0            29                 Qatar  6.374           1.684           1.313   \n",
       "1            14            Luxembourg  7.090           1.609           1.479   \n",
       "2            34             Singapore  6.262           1.572           1.463   \n",
       "3            21  United Arab Emirates  6.825           1.503           1.310   \n",
       "4            51                Kuwait  6.021           1.500           1.319   \n",
       "5            16               Ireland  7.021           1.499           1.553   \n",
       "6             3                Norway  7.554           1.488           1.582   \n",
       "7             6           Switzerland  7.480           1.452           1.526   \n",
       "8            76             Hong Kong  5.430           1.438           1.277   \n",
       "9            19         United States  6.892           1.433           1.457   \n",
       "\n",
       "   Healthy life expectancy  Freedom to make life choices  Generosity  \\\n",
       "0                    0.871                         0.555       0.220   \n",
       "1                    1.012                         0.526       0.194   \n",
       "2                    1.141                         0.556       0.271   \n",
       "3                    0.825                         0.598       0.262   \n",
       "4                    0.808                         0.493       0.142   \n",
       "5                    0.999                         0.516       0.298   \n",
       "6                    1.028                         0.603       0.271   \n",
       "7                    1.052                         0.572       0.263   \n",
       "8                    1.122                         0.440       0.258   \n",
       "9                    0.874                         0.454       0.280   \n",
       "\n",
       "   Perceptions of corruption  \n",
       "0                      0.167  \n",
       "1                      0.316  \n",
       "2                      0.453  \n",
       "3                      0.182  \n",
       "4                      0.097  \n",
       "5                      0.310  \n",
       "6                      0.341  \n",
       "7                      0.343  \n",
       "8                      0.287  \n",
       "9                      0.128  "
      ]
     },
     "execution_count": 34,
     "metadata": {},
     "output_type": "execute_result"
    }
   ],
   "source": [
    "df2019_gdp = df2019.sort_values(by='GDP per capita', ascending=False)\n",
    "df2019_gdp = df2019_gdp.reset_index(drop=True)\n",
    "df2019_gdp = df2019_gdp.iloc[0:10] \n",
    "df2019_gdp"
   ]
  },
  {
   "cell_type": "code",
   "execution_count": 44,
   "metadata": {},
   "outputs": [
    {
     "data": {
      "image/png": "[encoded data removed]",
      "text/plain": [
       "<Figure size 864x576 with 1 Axes>"
      ]
     },
     "metadata": {
      "needs_background": "light"
     },
     "output_type": "display_data"
    }
   ],
   "source": [
    "plt.figure(figsize=(12,8))\n",
    "plt.bar(df2019_gdp['Country or region'], df2019_gdp['GDP per capita'])\n",
    "plt.title('Countries with highest GDP per capita')\n",
    "plt.ylabel('GDP per capita')\n",
    "plt.xlabel('Country')\n",
    "plt.show()"
   ]
  },
  {
   "cell_type": "code",
   "execution_count": 35,
   "metadata": {},
   "outputs": [
    {
     "data": {
      "text/html": [
       "<div>\n",
       "<style scoped>\n",
       "    .dataframe tbody tr th:only-of-type {\n",
       "        vertical-align: middle;\n",
       "    }\n",
       "\n",
       "    .dataframe tbody tr th {\n",
       "        vertical-align: top;\n",
       "    }\n",
       "\n",
       "    .dataframe thead th {\n",
       "        text-align: right;\n",
       "    }\n",
       "</style>\n",
       "<table border=\"1\" class=\"dataframe\">\n",
       "  <thead>\n",
       "    <tr style=\"text-align: right;\">\n",
       "      <th></th>\n",
       "      <th>Overall rank</th>\n",
       "      <th>Country or region</th>\n",
       "      <th>Score</th>\n",
       "      <th>GDP per capita</th>\n",
       "      <th>Social support</th>\n",
       "      <th>Healthy life expectancy</th>\n",
       "      <th>Freedom to make life choices</th>\n",
       "      <th>Generosity</th>\n",
       "      <th>Perceptions of corruption</th>\n",
       "    </tr>\n",
       "  </thead>\n",
       "  <tbody>\n",
       "    <tr>\n",
       "      <td>0</td>\n",
       "      <td>34</td>\n",
       "      <td>Singapore</td>\n",
       "      <td>6.262</td>\n",
       "      <td>1.572</td>\n",
       "      <td>1.463</td>\n",
       "      <td>1.141</td>\n",
       "      <td>0.556</td>\n",
       "      <td>0.271</td>\n",
       "      <td>0.453</td>\n",
       "    </tr>\n",
       "    <tr>\n",
       "      <td>1</td>\n",
       "      <td>76</td>\n",
       "      <td>Hong Kong</td>\n",
       "      <td>5.430</td>\n",
       "      <td>1.438</td>\n",
       "      <td>1.277</td>\n",
       "      <td>1.122</td>\n",
       "      <td>0.440</td>\n",
       "      <td>0.258</td>\n",
       "      <td>0.287</td>\n",
       "    </tr>\n",
       "    <tr>\n",
       "      <td>2</td>\n",
       "      <td>58</td>\n",
       "      <td>Japan</td>\n",
       "      <td>5.886</td>\n",
       "      <td>1.327</td>\n",
       "      <td>1.419</td>\n",
       "      <td>1.088</td>\n",
       "      <td>0.445</td>\n",
       "      <td>0.069</td>\n",
       "      <td>0.140</td>\n",
       "    </tr>\n",
       "    <tr>\n",
       "      <td>3</td>\n",
       "      <td>30</td>\n",
       "      <td>Spain</td>\n",
       "      <td>6.354</td>\n",
       "      <td>1.286</td>\n",
       "      <td>1.484</td>\n",
       "      <td>1.062</td>\n",
       "      <td>0.362</td>\n",
       "      <td>0.153</td>\n",
       "      <td>0.079</td>\n",
       "    </tr>\n",
       "    <tr>\n",
       "      <td>4</td>\n",
       "      <td>6</td>\n",
       "      <td>Switzerland</td>\n",
       "      <td>7.480</td>\n",
       "      <td>1.452</td>\n",
       "      <td>1.526</td>\n",
       "      <td>1.052</td>\n",
       "      <td>0.572</td>\n",
       "      <td>0.263</td>\n",
       "      <td>0.343</td>\n",
       "    </tr>\n",
       "    <tr>\n",
       "      <td>5</td>\n",
       "      <td>24</td>\n",
       "      <td>France</td>\n",
       "      <td>6.592</td>\n",
       "      <td>1.324</td>\n",
       "      <td>1.472</td>\n",
       "      <td>1.045</td>\n",
       "      <td>0.436</td>\n",
       "      <td>0.111</td>\n",
       "      <td>0.183</td>\n",
       "    </tr>\n",
       "    <tr>\n",
       "      <td>6</td>\n",
       "      <td>49</td>\n",
       "      <td>Cyprus</td>\n",
       "      <td>6.046</td>\n",
       "      <td>1.263</td>\n",
       "      <td>1.223</td>\n",
       "      <td>1.042</td>\n",
       "      <td>0.406</td>\n",
       "      <td>0.190</td>\n",
       "      <td>0.041</td>\n",
       "    </tr>\n",
       "    <tr>\n",
       "      <td>7</td>\n",
       "      <td>64</td>\n",
       "      <td>Northern Cyprus</td>\n",
       "      <td>5.718</td>\n",
       "      <td>1.263</td>\n",
       "      <td>1.252</td>\n",
       "      <td>1.042</td>\n",
       "      <td>0.417</td>\n",
       "      <td>0.191</td>\n",
       "      <td>0.162</td>\n",
       "    </tr>\n",
       "    <tr>\n",
       "      <td>8</td>\n",
       "      <td>36</td>\n",
       "      <td>Italy</td>\n",
       "      <td>6.223</td>\n",
       "      <td>1.294</td>\n",
       "      <td>1.488</td>\n",
       "      <td>1.039</td>\n",
       "      <td>0.231</td>\n",
       "      <td>0.158</td>\n",
       "      <td>0.030</td>\n",
       "    </tr>\n",
       "    <tr>\n",
       "      <td>9</td>\n",
       "      <td>9</td>\n",
       "      <td>Canada</td>\n",
       "      <td>7.278</td>\n",
       "      <td>1.365</td>\n",
       "      <td>1.505</td>\n",
       "      <td>1.039</td>\n",
       "      <td>0.584</td>\n",
       "      <td>0.285</td>\n",
       "      <td>0.308</td>\n",
       "    </tr>\n",
       "  </tbody>\n",
       "</table>\n",
       "</div>"
      ],
      "text/plain": [
       "   Overall rank Country or region  Score  GDP per capita  Social support  \\\n",
       "0            34         Singapore  6.262           1.572           1.463   \n",
       "1            76         Hong Kong  5.430           1.438           1.277   \n",
       "2            58             Japan  5.886           1.327           1.419   \n",
       "3            30             Spain  6.354           1.286           1.484   \n",
       "4             6       Switzerland  7.480           1.452           1.526   \n",
       "5            24            France  6.592           1.324           1.472   \n",
       "6            49            Cyprus  6.046           1.263           1.223   \n",
       "7            64   Northern Cyprus  5.718           1.263           1.252   \n",
       "8            36             Italy  6.223           1.294           1.488   \n",
       "9             9            Canada  7.278           1.365           1.505   \n",
       "\n",
       "   Healthy life expectancy  Freedom to make life choices  Generosity  \\\n",
       "0                    1.141                         0.556       0.271   \n",
       "1                    1.122                         0.440       0.258   \n",
       "2                    1.088                         0.445       0.069   \n",
       "3                    1.062                         0.362       0.153   \n",
       "4                    1.052                         0.572       0.263   \n",
       "5                    1.045                         0.436       0.111   \n",
       "6                    1.042                         0.406       0.190   \n",
       "7                    1.042                         0.417       0.191   \n",
       "8                    1.039                         0.231       0.158   \n",
       "9                    1.039                         0.584       0.285   \n",
       "\n",
       "   Perceptions of corruption  \n",
       "0                      0.453  \n",
       "1                      0.287  \n",
       "2                      0.140  \n",
       "3                      0.079  \n",
       "4                      0.343  \n",
       "5                      0.183  \n",
       "6                      0.041  \n",
       "7                      0.162  \n",
       "8                      0.030  \n",
       "9                      0.308  "
      ]
     },
     "execution_count": 35,
     "metadata": {},
     "output_type": "execute_result"
    }
   ],
   "source": [
    "df2019_healthy = df2019.sort_values(by='Healthy life expectancy', ascending=False)\n",
    "df2019_healthy = df2019_healthy.reset_index(drop=True)\n",
    "df2019_healthy = df2019_healthy.iloc[0:10] \n",
    "df2019_healthy"
   ]
  },
  {
   "cell_type": "code",
   "execution_count": 45,
   "metadata": {},
   "outputs": [
    {
     "data": {
      "image/png": "[encoded data removed]",
      "text/plain": [
       "<Figure size 864x576 with 1 Axes>"
      ]
     },
     "metadata": {
      "needs_background": "light"
     },
     "output_type": "display_data"
    }
   ],
   "source": [
    "plt.figure(figsize=(12,8))\n",
    "plt.bar(df2019_healthy['Country or region'], df2019_healthy['Healthy life expectancy'])\n",
    "plt.title('Countries with highest Healthy life expectancy')\n",
    "plt.ylabel('Healthy life expectancy')\n",
    "plt.xlabel('Country')\n",
    "plt.show()"
   ]
  },
  {
   "cell_type": "code",
   "execution_count": 36,
   "metadata": {},
   "outputs": [
    {
     "data": {
      "text/html": [
       "<div>\n",
       "<style scoped>\n",
       "    .dataframe tbody tr th:only-of-type {\n",
       "        vertical-align: middle;\n",
       "    }\n",
       "\n",
       "    .dataframe tbody tr th {\n",
       "        vertical-align: top;\n",
       "    }\n",
       "\n",
       "    .dataframe thead th {\n",
       "        text-align: right;\n",
       "    }\n",
       "</style>\n",
       "<table border=\"1\" class=\"dataframe\">\n",
       "  <thead>\n",
       "    <tr style=\"text-align: right;\">\n",
       "      <th></th>\n",
       "      <th>Overall rank</th>\n",
       "      <th>Country or region</th>\n",
       "      <th>Score</th>\n",
       "      <th>GDP per capita</th>\n",
       "      <th>Social support</th>\n",
       "      <th>Healthy life expectancy</th>\n",
       "      <th>Freedom to make life choices</th>\n",
       "      <th>Generosity</th>\n",
       "      <th>Perceptions of corruption</th>\n",
       "    </tr>\n",
       "  </thead>\n",
       "  <tbody>\n",
       "    <tr>\n",
       "      <td>0</td>\n",
       "      <td>34</td>\n",
       "      <td>Singapore</td>\n",
       "      <td>6.262</td>\n",
       "      <td>1.572</td>\n",
       "      <td>1.463</td>\n",
       "      <td>1.141</td>\n",
       "      <td>0.556</td>\n",
       "      <td>0.271</td>\n",
       "      <td>0.453</td>\n",
       "    </tr>\n",
       "    <tr>\n",
       "      <td>1</td>\n",
       "      <td>152</td>\n",
       "      <td>Rwanda</td>\n",
       "      <td>3.334</td>\n",
       "      <td>0.359</td>\n",
       "      <td>0.711</td>\n",
       "      <td>0.614</td>\n",
       "      <td>0.555</td>\n",
       "      <td>0.217</td>\n",
       "      <td>0.411</td>\n",
       "    </tr>\n",
       "    <tr>\n",
       "      <td>2</td>\n",
       "      <td>2</td>\n",
       "      <td>Denmark</td>\n",
       "      <td>7.600</td>\n",
       "      <td>1.383</td>\n",
       "      <td>1.573</td>\n",
       "      <td>0.996</td>\n",
       "      <td>0.592</td>\n",
       "      <td>0.252</td>\n",
       "      <td>0.410</td>\n",
       "    </tr>\n",
       "    <tr>\n",
       "      <td>3</td>\n",
       "      <td>1</td>\n",
       "      <td>Finland</td>\n",
       "      <td>7.769</td>\n",
       "      <td>1.340</td>\n",
       "      <td>1.587</td>\n",
       "      <td>0.986</td>\n",
       "      <td>0.596</td>\n",
       "      <td>0.153</td>\n",
       "      <td>0.393</td>\n",
       "    </tr>\n",
       "    <tr>\n",
       "      <td>4</td>\n",
       "      <td>8</td>\n",
       "      <td>New Zealand</td>\n",
       "      <td>7.307</td>\n",
       "      <td>1.303</td>\n",
       "      <td>1.557</td>\n",
       "      <td>1.026</td>\n",
       "      <td>0.585</td>\n",
       "      <td>0.330</td>\n",
       "      <td>0.380</td>\n",
       "    </tr>\n",
       "    <tr>\n",
       "      <td>5</td>\n",
       "      <td>7</td>\n",
       "      <td>Sweden</td>\n",
       "      <td>7.343</td>\n",
       "      <td>1.387</td>\n",
       "      <td>1.487</td>\n",
       "      <td>1.009</td>\n",
       "      <td>0.574</td>\n",
       "      <td>0.267</td>\n",
       "      <td>0.373</td>\n",
       "    </tr>\n",
       "    <tr>\n",
       "      <td>6</td>\n",
       "      <td>6</td>\n",
       "      <td>Switzerland</td>\n",
       "      <td>7.480</td>\n",
       "      <td>1.452</td>\n",
       "      <td>1.526</td>\n",
       "      <td>1.052</td>\n",
       "      <td>0.572</td>\n",
       "      <td>0.263</td>\n",
       "      <td>0.343</td>\n",
       "    </tr>\n",
       "    <tr>\n",
       "      <td>7</td>\n",
       "      <td>3</td>\n",
       "      <td>Norway</td>\n",
       "      <td>7.554</td>\n",
       "      <td>1.488</td>\n",
       "      <td>1.582</td>\n",
       "      <td>1.028</td>\n",
       "      <td>0.603</td>\n",
       "      <td>0.271</td>\n",
       "      <td>0.341</td>\n",
       "    </tr>\n",
       "    <tr>\n",
       "      <td>8</td>\n",
       "      <td>14</td>\n",
       "      <td>Luxembourg</td>\n",
       "      <td>7.090</td>\n",
       "      <td>1.609</td>\n",
       "      <td>1.479</td>\n",
       "      <td>1.012</td>\n",
       "      <td>0.526</td>\n",
       "      <td>0.194</td>\n",
       "      <td>0.316</td>\n",
       "    </tr>\n",
       "    <tr>\n",
       "      <td>9</td>\n",
       "      <td>16</td>\n",
       "      <td>Ireland</td>\n",
       "      <td>7.021</td>\n",
       "      <td>1.499</td>\n",
       "      <td>1.553</td>\n",
       "      <td>0.999</td>\n",
       "      <td>0.516</td>\n",
       "      <td>0.298</td>\n",
       "      <td>0.310</td>\n",
       "    </tr>\n",
       "  </tbody>\n",
       "</table>\n",
       "</div>"
      ],
      "text/plain": [
       "   Overall rank Country or region  Score  GDP per capita  Social support  \\\n",
       "0            34         Singapore  6.262           1.572           1.463   \n",
       "1           152            Rwanda  3.334           0.359           0.711   \n",
       "2             2           Denmark  7.600           1.383           1.573   \n",
       "3             1           Finland  7.769           1.340           1.587   \n",
       "4             8       New Zealand  7.307           1.303           1.557   \n",
       "5             7            Sweden  7.343           1.387           1.487   \n",
       "6             6       Switzerland  7.480           1.452           1.526   \n",
       "7             3            Norway  7.554           1.488           1.582   \n",
       "8            14        Luxembourg  7.090           1.609           1.479   \n",
       "9            16           Ireland  7.021           1.499           1.553   \n",
       "\n",
       "   Healthy life expectancy  Freedom to make life choices  Generosity  \\\n",
       "0                    1.141                         0.556       0.271   \n",
       "1                    0.614                         0.555       0.217   \n",
       "2                    0.996                         0.592       0.252   \n",
       "3                    0.986                         0.596       0.153   \n",
       "4                    1.026                         0.585       0.330   \n",
       "5                    1.009                         0.574       0.267   \n",
       "6                    1.052                         0.572       0.263   \n",
       "7                    1.028                         0.603       0.271   \n",
       "8                    1.012                         0.526       0.194   \n",
       "9                    0.999                         0.516       0.298   \n",
       "\n",
       "   Perceptions of corruption  \n",
       "0                      0.453  \n",
       "1                      0.411  \n",
       "2                      0.410  \n",
       "3                      0.393  \n",
       "4                      0.380  \n",
       "5                      0.373  \n",
       "6                      0.343  \n",
       "7                      0.341  \n",
       "8                      0.316  \n",
       "9                      0.310  "
      ]
     },
     "execution_count": 36,
     "metadata": {},
     "output_type": "execute_result"
    }
   ],
   "source": [
    "df2019_perception = df2019.sort_values(by='Perceptions of corruption', ascending=False)\n",
    "df2019_perception = df2019_perception.reset_index(drop=True)\n",
    "df2019_perception = df2019_perception.iloc[0:10] \n",
    "df2019_perception"
   ]
  },
  {
   "cell_type": "code",
   "execution_count": 46,
   "metadata": {},
   "outputs": [
    {
     "data": {
      "image/png": "[encoded data removed]",
      "text/plain": [
       "<Figure size 864x576 with 1 Axes>"
      ]
     },
     "metadata": {
      "needs_background": "light"
     },
     "output_type": "display_data"
    }
   ],
   "source": [
    "plt.figure(figsize=(12,8))\n",
    "plt.bar(df2019_perception['Country or region'], df2019_perception['Perceptions of corruption'])\n",
    "plt.title('Countries with highest Perceptions of corruption')\n",
    "plt.ylabel('Perceptions of corruption')\n",
    "plt.xlabel('Country')\n",
    "plt.show()"
   ]
  },
  {
   "cell_type": "code",
   "execution_count": null,
   "metadata": {},
   "outputs": [],
   "source": []
  },
  {
   "cell_type": "code",
   "execution_count": null,
   "metadata": {},
   "outputs": [],
   "source": []
  }
 ],
 "metadata": {
  "kernelspec": {
   "display_name": "Python 3",
   "language": "python",
   "name": "python3"
  },
  "language_info": {
   "codemirror_mode": {
    "name": "ipython",
    "version": 3
   },
   "file_extension": ".py",
   "mimetype": "text/x-python",
   "name": "python",
   "nbconvert_exporter": "python",
   "pygments_lexer": "ipython3",
   "version": "3.7.4"
  }
 },
 "nbformat": 4,
 "nbformat_minor": 2
}
